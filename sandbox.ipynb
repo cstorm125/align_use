{
  "nbformat": 4,
  "nbformat_minor": 0,
  "metadata": {
    "colab": {
      "name": "sandbox",
      "provenance": [],
      "collapsed_sections": [],
      "authorship_tag": "ABX9TyPCdXoCvxdyXzy78Tx5JP16",
      "include_colab_link": true
    },
    "kernelspec": {
      "name": "python3",
      "display_name": "Python 3"
    },
    "accelerator": "GPU"
  },
  "cells": [
    {
      "cell_type": "markdown",
      "metadata": {
        "id": "view-in-github",
        "colab_type": "text"
      },
      "source": [
        "<a href=\"https://colab.research.google.com/github/cstorm125/align_use/blob/master/sandbox.ipynb\" target=\"_parent\"><img src=\"https://colab.research.google.com/assets/colab-badge.svg\" alt=\"Open In Colab\"/></a>"
      ]
    },
    {
      "cell_type": "code",
      "metadata": {
        "id": "gNzH0LOAeKNQ",
        "colab_type": "code",
        "colab": {
          "base_uri": "https://localhost:8080/",
          "height": 34
        },
        "outputId": "d685833c-3066-42c7-d468-3dfe4bb44b84"
      },
      "source": [
        "# #get stuff ready for colab\n",
        "# !pip install tensorflow_text\n",
        "# !wget https://www.dropbox.com/s/nr5h3xuqhlvj94m/europarl-v7.fr-en.en\n",
        "# !wget https://www.dropbox.com/s/z730widwr5kw0zm/europarl-v7.fr-en.fr\n",
        "!ls"
      ],
      "execution_count": 5,
      "outputs": [
        {
          "output_type": "stream",
          "text": [
            "europarl-v7.fr-en.en  europarl-v7.fr-en.fr  sample_data\n"
          ],
          "name": "stdout"
        }
      ]
    },
    {
      "cell_type": "code",
      "metadata": {
        "id": "_5bgNpo-eRfA",
        "colab_type": "code",
        "colab": {}
      },
      "source": [
        "import pandas as pd\n",
        "import numpy as np\n",
        "import tensorflow_hub as hub\n",
        "import tensorflow_text\n",
        "import tensorflow as tf #tensorflow 2.1.0\n",
        "\n",
        "_model = hub.load('https://tfhub.dev/google/universal-sentence-encoder-multilingual/3')"
      ],
      "execution_count": 0,
      "outputs": []
    },
    {
      "cell_type": "code",
      "metadata": {
        "id": "d5NLWsSGeWF3",
        "colab_type": "code",
        "colab": {
          "base_uri": "https://localhost:8080/",
          "height": 34
        },
        "outputId": "09e51570-4c52-4dd4-c8bd-450a8b885eb0"
      },
      "source": [
        "#read files\n",
        "with open('europarl-v7.fr-en.fr','r') as f: fr = f.readlines()\n",
        "with open('europarl-v7.fr-en.en','r') as f: en = f.readlines()\n",
        "len(fr), len(en)"
      ],
      "execution_count": 7,
      "outputs": [
        {
          "output_type": "execute_result",
          "data": {
            "text/plain": [
              "(2007723, 2007723)"
            ]
          },
          "metadata": {
            "tags": []
          },
          "execution_count": 7
        }
      ]
    },
    {
      "cell_type": "code",
      "metadata": {
        "id": "vASlLe_UeXw9",
        "colab_type": "code",
        "colab": {
          "base_uri": "https://localhost:8080/",
          "height": 204
        },
        "outputId": "c22b3b90-f871-44df-a7c6-7e25c1d74900"
      },
      "source": [
        "#create dataframe\n",
        "df = pd.DataFrame({'fr':[i[:-1] for i in fr],'en':[i[:-1] for i in en]})\n",
        "df.tail()"
      ],
      "execution_count": 9,
      "outputs": [
        {
          "output_type": "execute_result",
          "data": {
            "text/html": [
              "<div>\n",
              "<style scoped>\n",
              "    .dataframe tbody tr th:only-of-type {\n",
              "        vertical-align: middle;\n",
              "    }\n",
              "\n",
              "    .dataframe tbody tr th {\n",
              "        vertical-align: top;\n",
              "    }\n",
              "\n",
              "    .dataframe thead th {\n",
              "        text-align: right;\n",
              "    }\n",
              "</style>\n",
              "<table border=\"1\" class=\"dataframe\">\n",
              "  <thead>\n",
              "    <tr style=\"text-align: right;\">\n",
              "      <th></th>\n",
              "      <th>fr</th>\n",
              "      <th>en</th>\n",
              "    </tr>\n",
              "  </thead>\n",
              "  <tbody>\n",
              "    <tr>\n",
              "      <th>2007718</th>\n",
              "      <td>Je me permettrai même, bien qu'ils soient abse...</td>\n",
              "      <td>I would also like, although they are absent, t...</td>\n",
              "    </tr>\n",
              "    <tr>\n",
              "      <th>2007719</th>\n",
              "      <td>Je ne rouvrirai pas le débat sur le millénaire...</td>\n",
              "      <td>I am not going to re-open the 'Millennium or n...</td>\n",
              "    </tr>\n",
              "    <tr>\n",
              "      <th>2007720</th>\n",
              "      <td>Interruption de la session</td>\n",
              "      <td>Adjournment of the session</td>\n",
              "    </tr>\n",
              "    <tr>\n",
              "      <th>2007721</th>\n",
              "      <td>Je déclare interrompue la session du Parlement...</td>\n",
              "      <td>I declare the session of the European Parliame...</td>\n",
              "    </tr>\n",
              "    <tr>\n",
              "      <th>2007722</th>\n",
              "      <td>(La séance est levée à 10h50)</td>\n",
              "      <td>(The sitting was closed at 10.50 a.m.)</td>\n",
              "    </tr>\n",
              "  </tbody>\n",
              "</table>\n",
              "</div>"
            ],
            "text/plain": [
              "                                                        fr                                                 en\n",
              "2007718  Je me permettrai même, bien qu'ils soient abse...  I would also like, although they are absent, t...\n",
              "2007719  Je ne rouvrirai pas le débat sur le millénaire...  I am not going to re-open the 'Millennium or n...\n",
              "2007720                         Interruption de la session                         Adjournment of the session\n",
              "2007721  Je déclare interrompue la session du Parlement...  I declare the session of the European Parliame...\n",
              "2007722                      (La séance est levée à 10h50)             (The sitting was closed at 10.50 a.m.)"
            ]
          },
          "metadata": {
            "tags": []
          },
          "execution_count": 9
        }
      ]
    },
    {
      "cell_type": "code",
      "metadata": {
        "id": "txVgtaEQfp2w",
        "colab_type": "code",
        "colab": {
          "base_uri": "https://localhost:8080/",
          "height": 51
        },
        "outputId": "828f2324-e9ed-4d04-bbec-c1393daab75e"
      },
      "source": [
        "%time x = _model(df['fr'][:10000])"
      ],
      "execution_count": 11,
      "outputs": [
        {
          "output_type": "stream",
          "text": [
            "CPU times: user 1 s, sys: 228 ms, total: 1.23 s\n",
            "Wall time: 1.11 s\n"
          ],
          "name": "stdout"
        }
      ]
    },
    {
      "cell_type": "code",
      "metadata": {
        "id": "c-icKB98rtsF",
        "colab_type": "code",
        "colab": {
          "base_uri": "https://localhost:8080/",
          "height": 255
        },
        "outputId": "e17de73b-458a-4e7c-c04c-5862844111d8"
      },
      "source": [
        "x = tf.random.normal([3000,512])@tf.random.normal([512,3000])\n",
        "# tf.cast(x >0,tf.int32).numpy()\n",
        "x"
      ],
      "execution_count": 27,
      "outputs": [
        {
          "output_type": "execute_result",
          "data": {
            "text/plain": [
              "<tf.Tensor: shape=(3000, 3000), dtype=float32, numpy=\n",
              "array([[-21.836205  ,  15.390707  ,  12.076106  , ..., -18.791527  ,\n",
              "          0.8299967 ,  28.336113  ],\n",
              "       [  0.85433674,   8.562556  , -35.347317  , ..., -12.781753  ,\n",
              "          1.3013941 ,   1.4134177 ],\n",
              "       [ -3.0149612 , -44.33893   , -56.680443  , ...,  -5.2696595 ,\n",
              "         -5.9382973 , -23.926512  ],\n",
              "       ...,\n",
              "       [ 51.981487  ,   0.29452467,  33.96473   , ...,  10.3710785 ,\n",
              "        -40.499256  ,  14.382589  ],\n",
              "       [-20.679998  ,  -2.784643  ,  13.663697  , ...,  24.555475  ,\n",
              "         11.00234   ,   6.414037  ],\n",
              "       [ -4.793739  , -17.676325  , -24.432667  , ...,  11.525996  ,\n",
              "        -35.70123   ,   1.1551397 ]], dtype=float32)>"
            ]
          },
          "metadata": {
            "tags": []
          },
          "execution_count": 27
        }
      ]
    },
    {
      "cell_type": "code",
      "metadata": {
        "id": "jHdFQZeXso1l",
        "colab_type": "code",
        "colab": {}
      },
      "source": [
        "class LSHasher:\n",
        "    def __init__(self,hash_size = 5, input_dim = 512):\n",
        "        self.hash_size = hash_size\n",
        "        self.input_dim = input_dim\n",
        "        self.projections = tf.random.normal((self.input_dim, self.hash_size))\n",
        "    def get_hash(self,inp):\n",
        "        res = inp@self.projections\n",
        "        res = tf.cast(res > 0,tf.int32).numpy()\n",
        "        df = pd.DataFrame(res)\n",
        "        df['hash'] = df.apply(lambda row: str(row[0])+str(row[1])+str(row[2])+str(row[3])+str(row[4]),1)\n",
        "        return df"
      ],
      "execution_count": 0,
      "outputs": []
    },
    {
      "cell_type": "code",
      "metadata": {
        "id": "cUaUlrJexWKk",
        "colab_type": "code",
        "colab": {
          "base_uri": "https://localhost:8080/",
          "height": 419
        },
        "outputId": "173b8307-e9b5-4f9f-f490-379d9fadf2a8"
      },
      "source": [
        "lsh = LSHasher(5,512)\n",
        "fake_emb = tf.random.normal([1000000,512])\n",
        "hash1 = lsh.get_hash(fake_emb)\n",
        "hash1"
      ],
      "execution_count": 45,
      "outputs": [
        {
          "output_type": "execute_result",
          "data": {
            "text/html": [
              "<div>\n",
              "<style scoped>\n",
              "    .dataframe tbody tr th:only-of-type {\n",
              "        vertical-align: middle;\n",
              "    }\n",
              "\n",
              "    .dataframe tbody tr th {\n",
              "        vertical-align: top;\n",
              "    }\n",
              "\n",
              "    .dataframe thead th {\n",
              "        text-align: right;\n",
              "    }\n",
              "</style>\n",
              "<table border=\"1\" class=\"dataframe\">\n",
              "  <thead>\n",
              "    <tr style=\"text-align: right;\">\n",
              "      <th></th>\n",
              "      <th>0</th>\n",
              "      <th>1</th>\n",
              "      <th>2</th>\n",
              "      <th>3</th>\n",
              "      <th>4</th>\n",
              "      <th>hash</th>\n",
              "    </tr>\n",
              "  </thead>\n",
              "  <tbody>\n",
              "    <tr>\n",
              "      <th>0</th>\n",
              "      <td>0</td>\n",
              "      <td>0</td>\n",
              "      <td>0</td>\n",
              "      <td>0</td>\n",
              "      <td>0</td>\n",
              "      <td>00000</td>\n",
              "    </tr>\n",
              "    <tr>\n",
              "      <th>1</th>\n",
              "      <td>0</td>\n",
              "      <td>1</td>\n",
              "      <td>1</td>\n",
              "      <td>0</td>\n",
              "      <td>1</td>\n",
              "      <td>01101</td>\n",
              "    </tr>\n",
              "    <tr>\n",
              "      <th>2</th>\n",
              "      <td>1</td>\n",
              "      <td>0</td>\n",
              "      <td>0</td>\n",
              "      <td>0</td>\n",
              "      <td>1</td>\n",
              "      <td>10001</td>\n",
              "    </tr>\n",
              "    <tr>\n",
              "      <th>3</th>\n",
              "      <td>0</td>\n",
              "      <td>1</td>\n",
              "      <td>1</td>\n",
              "      <td>1</td>\n",
              "      <td>1</td>\n",
              "      <td>01111</td>\n",
              "    </tr>\n",
              "    <tr>\n",
              "      <th>4</th>\n",
              "      <td>1</td>\n",
              "      <td>0</td>\n",
              "      <td>0</td>\n",
              "      <td>1</td>\n",
              "      <td>1</td>\n",
              "      <td>10011</td>\n",
              "    </tr>\n",
              "    <tr>\n",
              "      <th>...</th>\n",
              "      <td>...</td>\n",
              "      <td>...</td>\n",
              "      <td>...</td>\n",
              "      <td>...</td>\n",
              "      <td>...</td>\n",
              "      <td>...</td>\n",
              "    </tr>\n",
              "    <tr>\n",
              "      <th>999995</th>\n",
              "      <td>1</td>\n",
              "      <td>1</td>\n",
              "      <td>1</td>\n",
              "      <td>0</td>\n",
              "      <td>0</td>\n",
              "      <td>11100</td>\n",
              "    </tr>\n",
              "    <tr>\n",
              "      <th>999996</th>\n",
              "      <td>0</td>\n",
              "      <td>1</td>\n",
              "      <td>0</td>\n",
              "      <td>1</td>\n",
              "      <td>1</td>\n",
              "      <td>01011</td>\n",
              "    </tr>\n",
              "    <tr>\n",
              "      <th>999997</th>\n",
              "      <td>1</td>\n",
              "      <td>0</td>\n",
              "      <td>1</td>\n",
              "      <td>0</td>\n",
              "      <td>0</td>\n",
              "      <td>10100</td>\n",
              "    </tr>\n",
              "    <tr>\n",
              "      <th>999998</th>\n",
              "      <td>1</td>\n",
              "      <td>0</td>\n",
              "      <td>0</td>\n",
              "      <td>1</td>\n",
              "      <td>0</td>\n",
              "      <td>10010</td>\n",
              "    </tr>\n",
              "    <tr>\n",
              "      <th>999999</th>\n",
              "      <td>0</td>\n",
              "      <td>0</td>\n",
              "      <td>1</td>\n",
              "      <td>1</td>\n",
              "      <td>1</td>\n",
              "      <td>00111</td>\n",
              "    </tr>\n",
              "  </tbody>\n",
              "</table>\n",
              "<p>1000000 rows × 6 columns</p>\n",
              "</div>"
            ],
            "text/plain": [
              "        0  1  2  3  4   hash\n",
              "0       0  0  0  0  0  00000\n",
              "1       0  1  1  0  1  01101\n",
              "2       1  0  0  0  1  10001\n",
              "3       0  1  1  1  1  01111\n",
              "4       1  0  0  1  1  10011\n",
              "...    .. .. .. .. ..    ...\n",
              "999995  1  1  1  0  0  11100\n",
              "999996  0  1  0  1  1  01011\n",
              "999997  1  0  1  0  0  10100\n",
              "999998  1  0  0  1  0  10010\n",
              "999999  0  0  1  1  1  00111\n",
              "\n",
              "[1000000 rows x 6 columns]"
            ]
          },
          "metadata": {
            "tags": []
          },
          "execution_count": 45
        }
      ]
    },
    {
      "cell_type": "code",
      "metadata": {
        "id": "n81L4uAnxuhc",
        "colab_type": "code",
        "colab": {
          "base_uri": "https://localhost:8080/",
          "height": 1000
        },
        "outputId": "335fa900-c397-4c79-8120-0d06aa0d5510"
      },
      "source": [
        "pd.DataFrame(np.concatenate([hash1.numpy(),np.random.randn(1000000,1)],1)).groupby([0,1,2,3,4]).count()"
      ],
      "execution_count": 43,
      "outputs": [
        {
          "output_type": "execute_result",
          "data": {
            "text/html": [
              "<div>\n",
              "<style scoped>\n",
              "    .dataframe tbody tr th:only-of-type {\n",
              "        vertical-align: middle;\n",
              "    }\n",
              "\n",
              "    .dataframe tbody tr th {\n",
              "        vertical-align: top;\n",
              "    }\n",
              "\n",
              "    .dataframe thead th {\n",
              "        text-align: right;\n",
              "    }\n",
              "</style>\n",
              "<table border=\"1\" class=\"dataframe\">\n",
              "  <thead>\n",
              "    <tr style=\"text-align: right;\">\n",
              "      <th></th>\n",
              "      <th></th>\n",
              "      <th></th>\n",
              "      <th></th>\n",
              "      <th></th>\n",
              "      <th>5</th>\n",
              "    </tr>\n",
              "    <tr>\n",
              "      <th>0</th>\n",
              "      <th>1</th>\n",
              "      <th>2</th>\n",
              "      <th>3</th>\n",
              "      <th>4</th>\n",
              "      <th></th>\n",
              "    </tr>\n",
              "  </thead>\n",
              "  <tbody>\n",
              "    <tr>\n",
              "      <th rowspan=\"16\" valign=\"top\">0.0</th>\n",
              "      <th rowspan=\"8\" valign=\"top\">0.0</th>\n",
              "      <th rowspan=\"4\" valign=\"top\">0.0</th>\n",
              "      <th rowspan=\"2\" valign=\"top\">0.0</th>\n",
              "      <th>0.0</th>\n",
              "      <td>25729</td>\n",
              "    </tr>\n",
              "    <tr>\n",
              "      <th>1.0</th>\n",
              "      <td>31748</td>\n",
              "    </tr>\n",
              "    <tr>\n",
              "      <th rowspan=\"2\" valign=\"top\">1.0</th>\n",
              "      <th>0.0</th>\n",
              "      <td>27944</td>\n",
              "    </tr>\n",
              "    <tr>\n",
              "      <th>1.0</th>\n",
              "      <td>33200</td>\n",
              "    </tr>\n",
              "    <tr>\n",
              "      <th rowspan=\"4\" valign=\"top\">1.0</th>\n",
              "      <th rowspan=\"2\" valign=\"top\">0.0</th>\n",
              "      <th>0.0</th>\n",
              "      <td>32629</td>\n",
              "    </tr>\n",
              "    <tr>\n",
              "      <th>1.0</th>\n",
              "      <td>33532</td>\n",
              "    </tr>\n",
              "    <tr>\n",
              "      <th rowspan=\"2\" valign=\"top\">1.0</th>\n",
              "      <th>0.0</th>\n",
              "      <td>29514</td>\n",
              "    </tr>\n",
              "    <tr>\n",
              "      <th>1.0</th>\n",
              "      <td>29203</td>\n",
              "    </tr>\n",
              "    <tr>\n",
              "      <th rowspan=\"8\" valign=\"top\">1.0</th>\n",
              "      <th rowspan=\"4\" valign=\"top\">0.0</th>\n",
              "      <th rowspan=\"2\" valign=\"top\">0.0</th>\n",
              "      <th>0.0</th>\n",
              "      <td>30569</td>\n",
              "    </tr>\n",
              "    <tr>\n",
              "      <th>1.0</th>\n",
              "      <td>33161</td>\n",
              "    </tr>\n",
              "    <tr>\n",
              "      <th rowspan=\"2\" valign=\"top\">1.0</th>\n",
              "      <th>0.0</th>\n",
              "      <td>32047</td>\n",
              "    </tr>\n",
              "    <tr>\n",
              "      <th>1.0</th>\n",
              "      <td>33154</td>\n",
              "    </tr>\n",
              "    <tr>\n",
              "      <th rowspan=\"4\" valign=\"top\">1.0</th>\n",
              "      <th rowspan=\"2\" valign=\"top\">0.0</th>\n",
              "      <th>0.0</th>\n",
              "      <td>36161</td>\n",
              "    </tr>\n",
              "    <tr>\n",
              "      <th>1.0</th>\n",
              "      <td>32306</td>\n",
              "    </tr>\n",
              "    <tr>\n",
              "      <th rowspan=\"2\" valign=\"top\">1.0</th>\n",
              "      <th>0.0</th>\n",
              "      <td>32069</td>\n",
              "    </tr>\n",
              "    <tr>\n",
              "      <th>1.0</th>\n",
              "      <td>26546</td>\n",
              "    </tr>\n",
              "    <tr>\n",
              "      <th rowspan=\"16\" valign=\"top\">1.0</th>\n",
              "      <th rowspan=\"8\" valign=\"top\">0.0</th>\n",
              "      <th rowspan=\"4\" valign=\"top\">0.0</th>\n",
              "      <th rowspan=\"2\" valign=\"top\">0.0</th>\n",
              "      <th>0.0</th>\n",
              "      <td>26561</td>\n",
              "    </tr>\n",
              "    <tr>\n",
              "      <th>1.0</th>\n",
              "      <td>31743</td>\n",
              "    </tr>\n",
              "    <tr>\n",
              "      <th rowspan=\"2\" valign=\"top\">1.0</th>\n",
              "      <th>0.0</th>\n",
              "      <td>32551</td>\n",
              "    </tr>\n",
              "    <tr>\n",
              "      <th>1.0</th>\n",
              "      <td>36413</td>\n",
              "    </tr>\n",
              "    <tr>\n",
              "      <th rowspan=\"4\" valign=\"top\">1.0</th>\n",
              "      <th rowspan=\"2\" valign=\"top\">0.0</th>\n",
              "      <th>0.0</th>\n",
              "      <td>32763</td>\n",
              "    </tr>\n",
              "    <tr>\n",
              "      <th>1.0</th>\n",
              "      <td>32146</td>\n",
              "    </tr>\n",
              "    <tr>\n",
              "      <th rowspan=\"2\" valign=\"top\">1.0</th>\n",
              "      <th>0.0</th>\n",
              "      <td>32807</td>\n",
              "    </tr>\n",
              "    <tr>\n",
              "      <th>1.0</th>\n",
              "      <td>30633</td>\n",
              "    </tr>\n",
              "    <tr>\n",
              "      <th rowspan=\"8\" valign=\"top\">1.0</th>\n",
              "      <th rowspan=\"4\" valign=\"top\">0.0</th>\n",
              "      <th rowspan=\"2\" valign=\"top\">0.0</th>\n",
              "      <th>0.0</th>\n",
              "      <td>29068</td>\n",
              "    </tr>\n",
              "    <tr>\n",
              "      <th>1.0</th>\n",
              "      <td>30131</td>\n",
              "    </tr>\n",
              "    <tr>\n",
              "      <th rowspan=\"2\" valign=\"top\">1.0</th>\n",
              "      <th>0.0</th>\n",
              "      <td>33608</td>\n",
              "    </tr>\n",
              "    <tr>\n",
              "      <th>1.0</th>\n",
              "      <td>32529</td>\n",
              "    </tr>\n",
              "    <tr>\n",
              "      <th rowspan=\"4\" valign=\"top\">1.0</th>\n",
              "      <th rowspan=\"2\" valign=\"top\">0.0</th>\n",
              "      <th>0.0</th>\n",
              "      <td>33668</td>\n",
              "    </tr>\n",
              "    <tr>\n",
              "      <th>1.0</th>\n",
              "      <td>28504</td>\n",
              "    </tr>\n",
              "    <tr>\n",
              "      <th rowspan=\"2\" valign=\"top\">1.0</th>\n",
              "      <th>0.0</th>\n",
              "      <td>31635</td>\n",
              "    </tr>\n",
              "    <tr>\n",
              "      <th>1.0</th>\n",
              "      <td>25728</td>\n",
              "    </tr>\n",
              "  </tbody>\n",
              "</table>\n",
              "</div>"
            ],
            "text/plain": [
              "                         5\n",
              "0   1   2   3   4         \n",
              "0.0 0.0 0.0 0.0 0.0  25729\n",
              "                1.0  31748\n",
              "            1.0 0.0  27944\n",
              "                1.0  33200\n",
              "        1.0 0.0 0.0  32629\n",
              "                1.0  33532\n",
              "            1.0 0.0  29514\n",
              "                1.0  29203\n",
              "    1.0 0.0 0.0 0.0  30569\n",
              "                1.0  33161\n",
              "            1.0 0.0  32047\n",
              "                1.0  33154\n",
              "        1.0 0.0 0.0  36161\n",
              "                1.0  32306\n",
              "            1.0 0.0  32069\n",
              "                1.0  26546\n",
              "1.0 0.0 0.0 0.0 0.0  26561\n",
              "                1.0  31743\n",
              "            1.0 0.0  32551\n",
              "                1.0  36413\n",
              "        1.0 0.0 0.0  32763\n",
              "                1.0  32146\n",
              "            1.0 0.0  32807\n",
              "                1.0  30633\n",
              "    1.0 0.0 0.0 0.0  29068\n",
              "                1.0  30131\n",
              "            1.0 0.0  33608\n",
              "                1.0  32529\n",
              "        1.0 0.0 0.0  33668\n",
              "                1.0  28504\n",
              "            1.0 0.0  31635\n",
              "                1.0  25728"
            ]
          },
          "metadata": {
            "tags": []
          },
          "execution_count": 43
        }
      ]
    },
    {
      "cell_type": "code",
      "metadata": {
        "id": "gB9hENLuryLu",
        "colab_type": "code",
        "colab": {
          "base_uri": "https://localhost:8080/",
          "height": 368
        },
        "outputId": "a2acab9c-efb8-480f-a064-9422a5203d5b"
      },
      "source": [
        "from lshash import LSHash\n",
        " \n",
        "k = 10 # hash size\n",
        "L = 5  # number of tables\n",
        "d = 512 # Dimension of Feature vector\n",
        "lsh = LSHash(hash_size=k, input_dim=d, num_hashtables=L)\n",
        "# LSH on all the images\n",
        "for img_path, vec in tqdm_notebook(feature_dict.items()):\n",
        "    lsh.index(vec.flatten(), extra_data=img_path)"
      ],
      "execution_count": 13,
      "outputs": [
        {
          "output_type": "error",
          "ename": "ModuleNotFoundError",
          "evalue": "ignored",
          "traceback": [
            "\u001b[0;31m---------------------------------------------------------------------------\u001b[0m",
            "\u001b[0;31mModuleNotFoundError\u001b[0m                       Traceback (most recent call last)",
            "\u001b[0;32m<ipython-input-13-b0f3b7e745bc>\u001b[0m in \u001b[0;36m<module>\u001b[0;34m()\u001b[0m\n\u001b[0;32m----> 1\u001b[0;31m \u001b[0;32mfrom\u001b[0m \u001b[0mlshash\u001b[0m \u001b[0;32mimport\u001b[0m \u001b[0mLSHash\u001b[0m\u001b[0;34m\u001b[0m\u001b[0;34m\u001b[0m\u001b[0m\n\u001b[0m\u001b[1;32m      2\u001b[0m \u001b[0;34m\u001b[0m\u001b[0m\n\u001b[1;32m      3\u001b[0m \u001b[0mk\u001b[0m \u001b[0;34m=\u001b[0m \u001b[0;36m10\u001b[0m \u001b[0;31m# hash size\u001b[0m\u001b[0;34m\u001b[0m\u001b[0;34m\u001b[0m\u001b[0m\n\u001b[1;32m      4\u001b[0m \u001b[0mL\u001b[0m \u001b[0;34m=\u001b[0m \u001b[0;36m5\u001b[0m  \u001b[0;31m# number of tables\u001b[0m\u001b[0;34m\u001b[0m\u001b[0;34m\u001b[0m\u001b[0m\n\u001b[1;32m      5\u001b[0m \u001b[0md\u001b[0m \u001b[0;34m=\u001b[0m \u001b[0;36m512\u001b[0m \u001b[0;31m# Dimension of Feature vector\u001b[0m\u001b[0;34m\u001b[0m\u001b[0;34m\u001b[0m\u001b[0m\n",
            "\u001b[0;31mModuleNotFoundError\u001b[0m: No module named 'lshash'",
            "",
            "\u001b[0;31m---------------------------------------------------------------------------\u001b[0;32m\nNOTE: If your import is failing due to a missing package, you can\nmanually install dependencies using either !pip or !apt.\n\nTo view examples of installing some common dependencies, click the\n\"Open Examples\" button below.\n\u001b[0;31m---------------------------------------------------------------------------\u001b[0m\n"
          ]
        }
      ]
    },
    {
      "cell_type": "code",
      "metadata": {
        "id": "WXR3KU6UsBsq",
        "colab_type": "code",
        "colab": {
          "base_uri": "https://localhost:8080/",
          "height": 51
        },
        "outputId": "189b58c3-b381-4fcf-9f14-04e17100e42d"
      },
      "source": [
        "!pip install lhash"
      ],
      "execution_count": 14,
      "outputs": [
        {
          "output_type": "stream",
          "text": [
            "\u001b[31mERROR: Could not find a version that satisfies the requirement lhash (from versions: none)\u001b[0m\n",
            "\u001b[31mERROR: No matching distribution found for lhash\u001b[0m\n"
          ],
          "name": "stdout"
        }
      ]
    },
    {
      "cell_type": "code",
      "metadata": {
        "id": "Z7jOTOKMsDVz",
        "colab_type": "code",
        "colab": {}
      },
      "source": [
        ""
      ],
      "execution_count": 0,
      "outputs": []
    }
  ]
}