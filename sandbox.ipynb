{
  "nbformat": 4,
  "nbformat_minor": 0,
  "metadata": {
    "colab": {
      "name": "sandbox",
      "provenance": [],
      "collapsed_sections": [],
      "authorship_tag": "ABX9TyPHw7m0saHBZ/NJiHdNm+rg",
      "include_colab_link": true
    },
    "kernelspec": {
      "name": "python3",
      "display_name": "Python 3"
    },
    "accelerator": "GPU"
  },
  "cells": [
    {
      "cell_type": "markdown",
      "metadata": {
        "id": "view-in-github",
        "colab_type": "text"
      },
      "source": [
        "<a href=\"https://colab.research.google.com/github/cstorm125/align_use/blob/master/sandbox.ipynb\" target=\"_parent\"><img src=\"https://colab.research.google.com/assets/colab-badge.svg\" alt=\"Open In Colab\"/></a>"
      ]
    },
    {
      "cell_type": "markdown",
      "metadata": {
        "id": "eOAL_5ZAUFWa",
        "colab_type": "text"
      },
      "source": [
        "# Universal Sentence Encoder for Sentence Alignment"
      ]
    },
    {
      "cell_type": "code",
      "metadata": {
        "id": "q4nGhbDHUGAG",
        "colab_type": "code",
        "colab": {}
      },
      "source": [
        "# #get stuff ready for colab\n",
        "# !pip install tensorflow_text\n",
        "# !wget https://www.dropbox.com/s/nr5h3xuqhlvj94m/europarl-v7.fr-en.en\n",
        "# !wget https://www.dropbox.com/s/z730widwr5kw0zm/europarl-v7.fr-en.fr"
      ],
      "execution_count": 0,
      "outputs": []
    },
    {
      "cell_type": "code",
      "metadata": {
        "id": "XuDT_4j3PA4t",
        "colab_type": "code",
        "colab": {
          "base_uri": "https://localhost:8080/",
          "height": 51
        },
        "outputId": "266248b5-1609-401c-e13d-7fa277204b16"
      },
      "source": [
        "!ls"
      ],
      "execution_count": 2,
      "outputs": [
        {
          "output_type": "stream",
          "text": [
            "europarl-v7.fr-en.en\teuroparl-v7.fr-en.fr\tsample_data\n",
            "europarl-v7.fr-en.en.1\teuroparl-v7.fr-en.fr.1\n"
          ],
          "name": "stdout"
        }
      ]
    },
    {
      "cell_type": "code",
      "metadata": {
        "id": "_5bgNpo-eRfA",
        "colab_type": "code",
        "colab": {}
      },
      "source": [
        "import pandas as pd\n",
        "import numpy as np\n",
        "import tensorflow_hub as hub\n",
        "import tensorflow_text\n",
        "import tensorflow as tf #tensorflow 2.1.0\n",
        "\n",
        "_model = hub.load('https://tfhub.dev/google/universal-sentence-encoder-multilingual/3')\n",
        "\n",
        "class LSHasher:\n",
        "    def __init__(self,hash_size = 10, input_dim = 512):\n",
        "        self.hash_size = hash_size\n",
        "        self.input_dim = input_dim\n",
        "        self.projections = tf.random.normal((self.input_dim, self.hash_size))\n",
        "    def get_hash(self,inp):\n",
        "        res = inp@self.projections\n",
        "        res = tf.cast(res > 0,tf.int32).numpy().astype(str)\n",
        "        res = [''.join(i) for i in res]\n",
        "        return res\n",
        "\n",
        "def get_alignment(all_emb,input_idx):\n",
        "    ref_idx = tf.constant(input_idx)[:,None]\n",
        "    sub_emb = tf.gather_nd(params=all_emb, indices=ref_idx)\n",
        "    x_ = tf.nn.l2_normalize(sub_emb,axis=1)\n",
        "    res = x_@tf.transpose(x_)\n",
        "    res = tf.linalg.set_diag(res, tf.constant(-2, dtype=float, shape=len(input_idx)))\n",
        "    max_idx = tf.argmax(res,0).numpy()\n",
        "    max_values = tf.reduce_max(res,0).numpy()\n",
        "    max_input_idx = [input_idx[i] for i in max_idx]\n",
        "    return max_input_idx, max_values"
      ],
      "execution_count": 0,
      "outputs": []
    },
    {
      "cell_type": "markdown",
      "metadata": {
        "id": "-vWarr1rULaM",
        "colab_type": "text"
      },
      "source": [
        "## Small Baseline with `europarl fr-en`"
      ]
    },
    {
      "cell_type": "code",
      "metadata": {
        "id": "d5NLWsSGeWF3",
        "colab_type": "code",
        "outputId": "912803ba-7254-49dd-98e2-55cbfbfe8d28",
        "colab": {
          "base_uri": "https://localhost:8080/",
          "height": 34
        }
      },
      "source": [
        "#read files\n",
        "with open('europarl-v7.fr-en.fr','r') as f: fr = f.readlines()\n",
        "with open('europarl-v7.fr-en.en','r') as f: en = f.readlines()\n",
        "len(fr), len(en)"
      ],
      "execution_count": 6,
      "outputs": [
        {
          "output_type": "execute_result",
          "data": {
            "text/plain": [
              "(2007723, 2007723)"
            ]
          },
          "metadata": {
            "tags": []
          },
          "execution_count": 6
        }
      ]
    },
    {
      "cell_type": "code",
      "metadata": {
        "id": "vASlLe_UeXw9",
        "colab_type": "code",
        "outputId": "b1e74eb8-c20d-4860-b287-9f446ca49120",
        "colab": {
          "base_uri": "https://localhost:8080/",
          "height": 204
        }
      },
      "source": [
        "#create dataframe\n",
        "df = pd.DataFrame({'fr':[i[:-1] for i in fr],'en':[i[:-1] for i in en]})\n",
        "#deduplicate based on fr\n",
        "df['rnk'] = df.groupby('fr').cumcount()\n",
        "df = df[df.rnk==0].drop('rnk',1).reset_index(drop=True)\n",
        "df.tail()"
      ],
      "execution_count": 15,
      "outputs": [
        {
          "output_type": "execute_result",
          "data": {
            "text/html": [
              "<div>\n",
              "<style scoped>\n",
              "    .dataframe tbody tr th:only-of-type {\n",
              "        vertical-align: middle;\n",
              "    }\n",
              "\n",
              "    .dataframe tbody tr th {\n",
              "        vertical-align: top;\n",
              "    }\n",
              "\n",
              "    .dataframe thead th {\n",
              "        text-align: right;\n",
              "    }\n",
              "</style>\n",
              "<table border=\"1\" class=\"dataframe\">\n",
              "  <thead>\n",
              "    <tr style=\"text-align: right;\">\n",
              "      <th></th>\n",
              "      <th>fr</th>\n",
              "      <th>en</th>\n",
              "    </tr>\n",
              "  </thead>\n",
              "  <tbody>\n",
              "    <tr>\n",
              "      <th>1954617</th>\n",
              "      <td>Je donne la parole à M. Manders pour une motio...</td>\n",
              "      <td>Mr Manders has the floor for a procedural motion.</td>\n",
              "    </tr>\n",
              "    <tr>\n",
              "      <th>1954618</th>\n",
              "      <td>Monsieur le Président, je voudrais profiter de...</td>\n",
              "      <td>Mr President, I would like to take this opport...</td>\n",
              "    </tr>\n",
              "    <tr>\n",
              "      <th>1954619</th>\n",
              "      <td>Mesdames et Messieurs les Députés, avant votre...</td>\n",
              "      <td>Ladies and gentlemen, before you leave me alon...</td>\n",
              "    </tr>\n",
              "    <tr>\n",
              "      <th>1954620</th>\n",
              "      <td>Je me permettrai même, bien qu'ils soient abse...</td>\n",
              "      <td>I would also like, although they are absent, t...</td>\n",
              "    </tr>\n",
              "    <tr>\n",
              "      <th>1954621</th>\n",
              "      <td>Je ne rouvrirai pas le débat sur le millénaire...</td>\n",
              "      <td>I am not going to re-open the 'Millennium or n...</td>\n",
              "    </tr>\n",
              "  </tbody>\n",
              "</table>\n",
              "</div>"
            ],
            "text/plain": [
              "                                                        fr                                                 en\n",
              "1954617  Je donne la parole à M. Manders pour une motio...  Mr Manders has the floor for a procedural motion.\n",
              "1954618  Monsieur le Président, je voudrais profiter de...  Mr President, I would like to take this opport...\n",
              "1954619  Mesdames et Messieurs les Députés, avant votre...  Ladies and gentlemen, before you leave me alon...\n",
              "1954620  Je me permettrai même, bien qu'ils soient abse...  I would also like, although they are absent, t...\n",
              "1954621  Je ne rouvrirai pas le débat sur le millénaire...  I am not going to re-open the 'Millennium or n..."
            ]
          },
          "metadata": {
            "tags": []
          },
          "execution_count": 15
        }
      ]
    },
    {
      "cell_type": "code",
      "metadata": {
        "id": "txVgtaEQfp2w",
        "colab_type": "code",
        "outputId": "1eec6745-739b-4b63-9342-f6847ecdd840",
        "colab": {
          "base_uri": "https://localhost:8080/",
          "height": 102
        }
      },
      "source": [
        "#randomize a subset of 1000 deduplicated sentences\n",
        "rand_idx = np.random.choice(df.index, size=1000)\n",
        "\n",
        "#get use\n",
        "%time fr_emb = _model(df['fr'][rand_idx])\n",
        "%time en_emb = _model(df['en'][rand_idx])\n",
        "all_emb = tf.concat([fr_emb,en_emb],0)\n",
        "all_emb.shape"
      ],
      "execution_count": 24,
      "outputs": [
        {
          "output_type": "stream",
          "text": [
            "CPU times: user 155 ms, sys: 2.88 ms, total: 158 ms\n",
            "Wall time: 140 ms\n",
            "CPU times: user 136 ms, sys: 2.9 ms, total: 139 ms\n",
            "Wall time: 115 ms\n"
          ],
          "name": "stdout"
        },
        {
          "output_type": "execute_result",
          "data": {
            "text/plain": [
              "TensorShape([2000, 512])"
            ]
          },
          "metadata": {
            "tags": []
          },
          "execution_count": 24
        }
      ]
    },
    {
      "cell_type": "code",
      "metadata": {
        "id": "IZyCKOdnmNWP",
        "colab_type": "code",
        "colab": {
          "base_uri": "https://localhost:8080/",
          "height": 419
        },
        "outputId": "b133c3ac-0f20-4fa6-ace8-4eede6aeea4b"
      },
      "source": [
        "#test with first 1000 rows of deduped fr-en europarl\n",
        "input_idx = [i for i in range(2000)]\n",
        "max_input_idx, max_values = get_alignment(all_emb,input_idx)\n",
        "res_df = pd.DataFrame({'src_idx':input_idx, 'targ_idx':max_input_idx,'score':max_values})\n",
        "res_df"
      ],
      "execution_count": 25,
      "outputs": [
        {
          "output_type": "execute_result",
          "data": {
            "text/html": [
              "<div>\n",
              "<style scoped>\n",
              "    .dataframe tbody tr th:only-of-type {\n",
              "        vertical-align: middle;\n",
              "    }\n",
              "\n",
              "    .dataframe tbody tr th {\n",
              "        vertical-align: top;\n",
              "    }\n",
              "\n",
              "    .dataframe thead th {\n",
              "        text-align: right;\n",
              "    }\n",
              "</style>\n",
              "<table border=\"1\" class=\"dataframe\">\n",
              "  <thead>\n",
              "    <tr style=\"text-align: right;\">\n",
              "      <th></th>\n",
              "      <th>src_idx</th>\n",
              "      <th>targ_idx</th>\n",
              "      <th>score</th>\n",
              "    </tr>\n",
              "  </thead>\n",
              "  <tbody>\n",
              "    <tr>\n",
              "      <th>0</th>\n",
              "      <td>0</td>\n",
              "      <td>1000</td>\n",
              "      <td>0.720966</td>\n",
              "    </tr>\n",
              "    <tr>\n",
              "      <th>1</th>\n",
              "      <td>1</td>\n",
              "      <td>1001</td>\n",
              "      <td>0.724499</td>\n",
              "    </tr>\n",
              "    <tr>\n",
              "      <th>2</th>\n",
              "      <td>2</td>\n",
              "      <td>1002</td>\n",
              "      <td>0.712397</td>\n",
              "    </tr>\n",
              "    <tr>\n",
              "      <th>3</th>\n",
              "      <td>3</td>\n",
              "      <td>1003</td>\n",
              "      <td>0.770342</td>\n",
              "    </tr>\n",
              "    <tr>\n",
              "      <th>4</th>\n",
              "      <td>4</td>\n",
              "      <td>1004</td>\n",
              "      <td>0.749140</td>\n",
              "    </tr>\n",
              "    <tr>\n",
              "      <th>...</th>\n",
              "      <td>...</td>\n",
              "      <td>...</td>\n",
              "      <td>...</td>\n",
              "    </tr>\n",
              "    <tr>\n",
              "      <th>1995</th>\n",
              "      <td>1995</td>\n",
              "      <td>995</td>\n",
              "      <td>0.845170</td>\n",
              "    </tr>\n",
              "    <tr>\n",
              "      <th>1996</th>\n",
              "      <td>1996</td>\n",
              "      <td>996</td>\n",
              "      <td>0.860101</td>\n",
              "    </tr>\n",
              "    <tr>\n",
              "      <th>1997</th>\n",
              "      <td>1997</td>\n",
              "      <td>997</td>\n",
              "      <td>0.875563</td>\n",
              "    </tr>\n",
              "    <tr>\n",
              "      <th>1998</th>\n",
              "      <td>1998</td>\n",
              "      <td>998</td>\n",
              "      <td>0.831155</td>\n",
              "    </tr>\n",
              "    <tr>\n",
              "      <th>1999</th>\n",
              "      <td>1999</td>\n",
              "      <td>999</td>\n",
              "      <td>0.805793</td>\n",
              "    </tr>\n",
              "  </tbody>\n",
              "</table>\n",
              "<p>2000 rows × 3 columns</p>\n",
              "</div>"
            ],
            "text/plain": [
              "      src_idx  targ_idx     score\n",
              "0           0      1000  0.720966\n",
              "1           1      1001  0.724499\n",
              "2           2      1002  0.712397\n",
              "3           3      1003  0.770342\n",
              "4           4      1004  0.749140\n",
              "...       ...       ...       ...\n",
              "1995     1995       995  0.845170\n",
              "1996     1996       996  0.860101\n",
              "1997     1997       997  0.875563\n",
              "1998     1998       998  0.831155\n",
              "1999     1999       999  0.805793\n",
              "\n",
              "[2000 rows x 3 columns]"
            ]
          },
          "metadata": {
            "tags": []
          },
          "execution_count": 25
        }
      ]
    },
    {
      "cell_type": "code",
      "metadata": {
        "id": "3VTDlgb_rBZi",
        "colab_type": "code",
        "colab": {
          "base_uri": "https://localhost:8080/",
          "height": 34
        },
        "outputId": "72d6e0f1-2093-4e0d-e49d-5343938298e2"
      },
      "source": [
        "#fr to en\n",
        "(res_df.iloc[:1000,:].src_idx==res_df.iloc[:1000,:].targ_idx-1000).mean()"
      ],
      "execution_count": 26,
      "outputs": [
        {
          "output_type": "execute_result",
          "data": {
            "text/plain": [
              "0.981"
            ]
          },
          "metadata": {
            "tags": []
          },
          "execution_count": 26
        }
      ]
    },
    {
      "cell_type": "code",
      "metadata": {
        "id": "G8pLO1o0KijV",
        "colab_type": "code",
        "colab": {
          "base_uri": "https://localhost:8080/",
          "height": 34
        },
        "outputId": "5ba9537b-7a54-40d5-b366-cb874e607001"
      },
      "source": [
        "#en to fr\n",
        "(res_df.iloc[1000:,:].src_idx==res_df.iloc[1000:,:].targ_idx+1000).mean()"
      ],
      "execution_count": 27,
      "outputs": [
        {
          "output_type": "execute_result",
          "data": {
            "text/plain": [
              "0.982"
            ]
          },
          "metadata": {
            "tags": []
          },
          "execution_count": 27
        }
      ]
    },
    {
      "cell_type": "markdown",
      "metadata": {
        "id": "luY0_QoQT_zi",
        "colab_type": "text"
      },
      "source": [
        "## Dealing with Large Datasets"
      ]
    },
    {
      "cell_type": "code",
      "metadata": {
        "id": "l-PPfXXdUzC7",
        "colab_type": "code",
        "colab": {}
      },
      "source": [
        "#get use\n",
        "%time fr_emb = _model(df['fr'])\n",
        "%time en_emb = _model(df['en'])\n",
        "all_emb = tf.concat([fr_emb,en_emb],0)\n",
        "all_emb.shape"
      ],
      "execution_count": 0,
      "outputs": []
    },
    {
      "cell_type": "code",
      "metadata": {
        "id": "fmfZIRkWTHRz",
        "colab_type": "code",
        "colab": {
          "base_uri": "https://localhost:8080/",
          "height": 68
        },
        "outputId": "d6768119-22d7-484b-ec56-717a09f734be"
      },
      "source": [
        "#hash everything\n",
        "lsh = LSHasher(5,512)\n",
        "%time all_lsh = lsh.get_hash(all_emb)\n",
        "len(all_lsh)"
      ],
      "execution_count": 29,
      "outputs": [
        {
          "output_type": "stream",
          "text": [
            "CPU times: user 11.6 ms, sys: 989 µs, total: 12.6 ms\n",
            "Wall time: 18.9 ms\n"
          ],
          "name": "stdout"
        },
        {
          "output_type": "execute_result",
          "data": {
            "text/plain": [
              "2000"
            ]
          },
          "metadata": {
            "tags": []
          },
          "execution_count": 29
        }
      ]
    },
    {
      "cell_type": "code",
      "metadata": {
        "id": "lfvFItm-fyuu",
        "colab_type": "code",
        "colab": {
          "base_uri": "https://localhost:8080/",
          "height": 419
        },
        "outputId": "09f6cf20-26fe-4562-b29b-6283a1e64316"
      },
      "source": [
        "#create hash dataframe\n",
        "d = pd.DataFrame({'lsh':all_lsh,'texts':all_texts})\n",
        "d"
      ],
      "execution_count": 15,
      "outputs": [
        {
          "output_type": "execute_result",
          "data": {
            "text/html": [
              "<div>\n",
              "<style scoped>\n",
              "    .dataframe tbody tr th:only-of-type {\n",
              "        vertical-align: middle;\n",
              "    }\n",
              "\n",
              "    .dataframe tbody tr th {\n",
              "        vertical-align: top;\n",
              "    }\n",
              "\n",
              "    .dataframe thead th {\n",
              "        text-align: right;\n",
              "    }\n",
              "</style>\n",
              "<table border=\"1\" class=\"dataframe\">\n",
              "  <thead>\n",
              "    <tr style=\"text-align: right;\">\n",
              "      <th></th>\n",
              "      <th>lsh</th>\n",
              "      <th>texts</th>\n",
              "    </tr>\n",
              "  </thead>\n",
              "  <tbody>\n",
              "    <tr>\n",
              "      <th>0</th>\n",
              "      <td>1100101100</td>\n",
              "      <td>Reprise de la session</td>\n",
              "    </tr>\n",
              "    <tr>\n",
              "      <th>1</th>\n",
              "      <td>1001000101</td>\n",
              "      <td>Je déclare reprise la session du Parlement eur...</td>\n",
              "    </tr>\n",
              "    <tr>\n",
              "      <th>2</th>\n",
              "      <td>1011000110</td>\n",
              "      <td>Comme vous avez pu le constater, le grand \"bog...</td>\n",
              "    </tr>\n",
              "    <tr>\n",
              "      <th>3</th>\n",
              "      <td>1100101100</td>\n",
              "      <td>Vous avez souhaité un débat à ce sujet dans le...</td>\n",
              "    </tr>\n",
              "    <tr>\n",
              "      <th>4</th>\n",
              "      <td>0011001100</td>\n",
              "      <td>En attendant, je souhaiterais, comme un certai...</td>\n",
              "    </tr>\n",
              "    <tr>\n",
              "      <th>...</th>\n",
              "      <td>...</td>\n",
              "      <td>...</td>\n",
              "    </tr>\n",
              "    <tr>\n",
              "      <th>19995</th>\n",
              "      <td>0101000000</td>\n",
              "      <td>The present CAP, however, is worse than its pr...</td>\n",
              "    </tr>\n",
              "    <tr>\n",
              "      <th>19996</th>\n",
              "      <td>0111100110</td>\n",
              "      <td>The selection criteria and the activities that...</td>\n",
              "    </tr>\n",
              "    <tr>\n",
              "      <th>19997</th>\n",
              "      <td>0011100100</td>\n",
              "      <td>In no case, however, are they programmes for t...</td>\n",
              "    </tr>\n",
              "    <tr>\n",
              "      <th>19998</th>\n",
              "      <td>0001100110</td>\n",
              "      <td>The actual appropriations available for LEADER...</td>\n",
              "    </tr>\n",
              "    <tr>\n",
              "      <th>19999</th>\n",
              "      <td>0001100110</td>\n",
              "      <td>This is because the 15% increase is nominal an...</td>\n",
              "    </tr>\n",
              "  </tbody>\n",
              "</table>\n",
              "<p>20000 rows × 2 columns</p>\n",
              "</div>"
            ],
            "text/plain": [
              "              lsh                                              texts\n",
              "0      1100101100                              Reprise de la session\n",
              "1      1001000101  Je déclare reprise la session du Parlement eur...\n",
              "2      1011000110  Comme vous avez pu le constater, le grand \"bog...\n",
              "3      1100101100  Vous avez souhaité un débat à ce sujet dans le...\n",
              "4      0011001100  En attendant, je souhaiterais, comme un certai...\n",
              "...           ...                                                ...\n",
              "19995  0101000000  The present CAP, however, is worse than its pr...\n",
              "19996  0111100110  The selection criteria and the activities that...\n",
              "19997  0011100100  In no case, however, are they programmes for t...\n",
              "19998  0001100110  The actual appropriations available for LEADER...\n",
              "19999  0001100110  This is because the 15% increase is nominal an...\n",
              "\n",
              "[20000 rows x 2 columns]"
            ]
          },
          "metadata": {
            "tags": []
          },
          "execution_count": 15
        }
      ]
    },
    {
      "cell_type": "code",
      "metadata": {
        "id": "fAKzaVw_iu0O",
        "colab_type": "code",
        "colab": {
          "base_uri": "https://localhost:8080/",
          "height": 419
        },
        "outputId": "30908979-badf-4576-e111-1fc13b3fa212"
      },
      "source": [
        "i = 0\n",
        "sub_d = d[d.lsh==d.loc[i,'lsh']]"
      ],
      "execution_count": 17,
      "outputs": [
        {
          "output_type": "execute_result",
          "data": {
            "text/html": [
              "<div>\n",
              "<style scoped>\n",
              "    .dataframe tbody tr th:only-of-type {\n",
              "        vertical-align: middle;\n",
              "    }\n",
              "\n",
              "    .dataframe tbody tr th {\n",
              "        vertical-align: top;\n",
              "    }\n",
              "\n",
              "    .dataframe thead th {\n",
              "        text-align: right;\n",
              "    }\n",
              "</style>\n",
              "<table border=\"1\" class=\"dataframe\">\n",
              "  <thead>\n",
              "    <tr style=\"text-align: right;\">\n",
              "      <th></th>\n",
              "      <th>lsh</th>\n",
              "      <th>texts</th>\n",
              "    </tr>\n",
              "  </thead>\n",
              "  <tbody>\n",
              "    <tr>\n",
              "      <th>0</th>\n",
              "      <td>1100101100</td>\n",
              "      <td>Reprise de la session</td>\n",
              "    </tr>\n",
              "    <tr>\n",
              "      <th>3</th>\n",
              "      <td>1100101100</td>\n",
              "      <td>Vous avez souhaité un débat à ce sujet dans le...</td>\n",
              "    </tr>\n",
              "    <tr>\n",
              "      <th>94</th>\n",
              "      <td>1100101100</td>\n",
              "      <td>Toujours au sujet de la journée du mercredi, j...</td>\n",
              "    </tr>\n",
              "    <tr>\n",
              "      <th>1049</th>\n",
              "      <td>1100101100</td>\n",
              "      <td>Je me demande pourtant si nous ne courons pas ...</td>\n",
              "    </tr>\n",
              "    <tr>\n",
              "      <th>1139</th>\n",
              "      <td>1100101100</td>\n",
              "      <td>Il a déclaré que nous ne devions pas toujours ...</td>\n",
              "    </tr>\n",
              "    <tr>\n",
              "      <th>...</th>\n",
              "      <td>...</td>\n",
              "      <td>...</td>\n",
              "    </tr>\n",
              "    <tr>\n",
              "      <th>16654</th>\n",
              "      <td>1100101100</td>\n",
              "      <td>In the event we had to have several meetings b...</td>\n",
              "    </tr>\n",
              "    <tr>\n",
              "      <th>17299</th>\n",
              "      <td>1100101100</td>\n",
              "      <td>Some businesses have become hi-tech businesses...</td>\n",
              "    </tr>\n",
              "    <tr>\n",
              "      <th>18017</th>\n",
              "      <td>1100101100</td>\n",
              "      <td>Last Thursday speaking times were extremely ti...</td>\n",
              "    </tr>\n",
              "    <tr>\n",
              "      <th>19568</th>\n",
              "      <td>1100101100</td>\n",
              "      <td>Is this really how we will answer the fundamen...</td>\n",
              "    </tr>\n",
              "    <tr>\n",
              "      <th>19801</th>\n",
              "      <td>1100101100</td>\n",
              "      <td>As you can see we have many exhibitions around...</td>\n",
              "    </tr>\n",
              "  </tbody>\n",
              "</table>\n",
              "<p>87 rows × 2 columns</p>\n",
              "</div>"
            ],
            "text/plain": [
              "              lsh                                              texts\n",
              "0      1100101100                              Reprise de la session\n",
              "3      1100101100  Vous avez souhaité un débat à ce sujet dans le...\n",
              "94     1100101100  Toujours au sujet de la journée du mercredi, j...\n",
              "1049   1100101100  Je me demande pourtant si nous ne courons pas ...\n",
              "1139   1100101100  Il a déclaré que nous ne devions pas toujours ...\n",
              "...           ...                                                ...\n",
              "16654  1100101100  In the event we had to have several meetings b...\n",
              "17299  1100101100  Some businesses have become hi-tech businesses...\n",
              "18017  1100101100  Last Thursday speaking times were extremely ti...\n",
              "19568  1100101100  Is this really how we will answer the fundamen...\n",
              "19801  1100101100  As you can see we have many exhibitions around...\n",
              "\n",
              "[87 rows x 2 columns]"
            ]
          },
          "metadata": {
            "tags": []
          },
          "execution_count": 17
        }
      ]
    },
    {
      "cell_type": "code",
      "metadata": {
        "id": "dejdyZpkicgS",
        "colab_type": "code",
        "colab": {
          "base_uri": "https://localhost:8080/",
          "height": 34
        },
        "outputId": "41a29165-43b6-48ee-d9f0-d6a50d5b855b"
      },
      "source": [
        "sub_idx = d.\n",
        "emb_one = all_emb[i,:][None,:]\n",
        "\n",
        "emb_one.shape"
      ],
      "execution_count": 22,
      "outputs": [
        {
          "output_type": "execute_result",
          "data": {
            "text/plain": [
              "TensorShape([1, 512])"
            ]
          },
          "metadata": {
            "tags": []
          },
          "execution_count": 22
        }
      ]
    },
    {
      "cell_type": "code",
      "metadata": {
        "id": "_WlBO5KFkPSH",
        "colab_type": "code",
        "colab": {}
      },
      "source": [
        ""
      ],
      "execution_count": 0,
      "outputs": []
    },
    {
      "cell_type": "code",
      "metadata": {
        "id": "_Jn2uTihbkfQ",
        "colab_type": "code",
        "colab": {
          "base_uri": "https://localhost:8080/",
          "height": 419
        },
        "outputId": "ed3f528c-2f2f-40a3-f25f-d4121d7ed121"
      },
      "source": [
        "new_df = pd.DataFrame({\n",
        "    'text':list(df['fr'][:10000])+list(df['en'][:10000]), \n",
        "    'lsh':fr_lsh+en_lsh})\n",
        "new_df"
      ],
      "execution_count": 105,
      "outputs": [
        {
          "output_type": "execute_result",
          "data": {
            "text/html": [
              "<div>\n",
              "<style scoped>\n",
              "    .dataframe tbody tr th:only-of-type {\n",
              "        vertical-align: middle;\n",
              "    }\n",
              "\n",
              "    .dataframe tbody tr th {\n",
              "        vertical-align: top;\n",
              "    }\n",
              "\n",
              "    .dataframe thead th {\n",
              "        text-align: right;\n",
              "    }\n",
              "</style>\n",
              "<table border=\"1\" class=\"dataframe\">\n",
              "  <thead>\n",
              "    <tr style=\"text-align: right;\">\n",
              "      <th></th>\n",
              "      <th>text</th>\n",
              "      <th>lsh</th>\n",
              "    </tr>\n",
              "  </thead>\n",
              "  <tbody>\n",
              "    <tr>\n",
              "      <th>0</th>\n",
              "      <td>Reprise de la session</td>\n",
              "      <td>1000000011</td>\n",
              "    </tr>\n",
              "    <tr>\n",
              "      <th>1</th>\n",
              "      <td>Je déclare reprise la session du Parlement eur...</td>\n",
              "      <td>1111101010</td>\n",
              "    </tr>\n",
              "    <tr>\n",
              "      <th>2</th>\n",
              "      <td>Comme vous avez pu le constater, le grand \"bog...</td>\n",
              "      <td>1111011011</td>\n",
              "    </tr>\n",
              "    <tr>\n",
              "      <th>3</th>\n",
              "      <td>Vous avez souhaité un débat à ce sujet dans le...</td>\n",
              "      <td>1010110111</td>\n",
              "    </tr>\n",
              "    <tr>\n",
              "      <th>4</th>\n",
              "      <td>En attendant, je souhaiterais, comme un certai...</td>\n",
              "      <td>0111101001</td>\n",
              "    </tr>\n",
              "    <tr>\n",
              "      <th>...</th>\n",
              "      <td>...</td>\n",
              "      <td>...</td>\n",
              "    </tr>\n",
              "    <tr>\n",
              "      <th>19995</th>\n",
              "      <td>The present CAP, however, is worse than its pr...</td>\n",
              "      <td>1111111110</td>\n",
              "    </tr>\n",
              "    <tr>\n",
              "      <th>19996</th>\n",
              "      <td>The selection criteria and the activities that...</td>\n",
              "      <td>1111001010</td>\n",
              "    </tr>\n",
              "    <tr>\n",
              "      <th>19997</th>\n",
              "      <td>In no case, however, are they programmes for t...</td>\n",
              "      <td>1010100010</td>\n",
              "    </tr>\n",
              "    <tr>\n",
              "      <th>19998</th>\n",
              "      <td>The actual appropriations available for LEADER...</td>\n",
              "      <td>0110111000</td>\n",
              "    </tr>\n",
              "    <tr>\n",
              "      <th>19999</th>\n",
              "      <td>This is because the 15% increase is nominal an...</td>\n",
              "      <td>1111110010</td>\n",
              "    </tr>\n",
              "  </tbody>\n",
              "</table>\n",
              "<p>20000 rows × 2 columns</p>\n",
              "</div>"
            ],
            "text/plain": [
              "                                                    text         lsh\n",
              "0                                  Reprise de la session  1000000011\n",
              "1      Je déclare reprise la session du Parlement eur...  1111101010\n",
              "2      Comme vous avez pu le constater, le grand \"bog...  1111011011\n",
              "3      Vous avez souhaité un débat à ce sujet dans le...  1010110111\n",
              "4      En attendant, je souhaiterais, comme un certai...  0111101001\n",
              "...                                                  ...         ...\n",
              "19995  The present CAP, however, is worse than its pr...  1111111110\n",
              "19996  The selection criteria and the activities that...  1111001010\n",
              "19997  In no case, however, are they programmes for t...  1010100010\n",
              "19998  The actual appropriations available for LEADER...  0110111000\n",
              "19999  This is because the 15% increase is nominal an...  1111110010\n",
              "\n",
              "[20000 rows x 2 columns]"
            ]
          },
          "metadata": {
            "tags": []
          },
          "execution_count": 105
        }
      ]
    },
    {
      "cell_type": "code",
      "metadata": {
        "id": "ZUqdzCEhcPex",
        "colab_type": "code",
        "colab": {
          "base_uri": "https://localhost:8080/",
          "height": 34
        },
        "outputId": "458a4dce-6e6d-40b9-f6eb-f0bdafb73ee1"
      },
      "source": [
        "new_df[new_df.lsh=='0000000101'].text[7481]"
      ],
      "execution_count": 111,
      "outputs": [
        {
          "output_type": "execute_result",
          "data": {
            "text/plain": [
              "\"Une meilleure analyse des obstacles que rencontrent les femmes permettra d' élaborer une stratégie pour les éliminer.\""
            ]
          },
          "metadata": {
            "tags": []
          },
          "execution_count": 111
        }
      ]
    },
    {
      "cell_type": "code",
      "metadata": {
        "id": "KplDiRM9ccTq",
        "colab_type": "code",
        "colab": {
          "base_uri": "https://localhost:8080/",
          "height": 80
        },
        "outputId": "542a56d8-f8d0-4fef-acc8-5581858678a7"
      },
      "source": [
        "df[df.fr==\"Une meilleure analyse des obstacles que rencontrent les femmes permettra d' élaborer une stratégie pour les éliminer.\"]"
      ],
      "execution_count": 113,
      "outputs": [
        {
          "output_type": "execute_result",
          "data": {
            "text/html": [
              "<div>\n",
              "<style scoped>\n",
              "    .dataframe tbody tr th:only-of-type {\n",
              "        vertical-align: middle;\n",
              "    }\n",
              "\n",
              "    .dataframe tbody tr th {\n",
              "        vertical-align: top;\n",
              "    }\n",
              "\n",
              "    .dataframe thead th {\n",
              "        text-align: right;\n",
              "    }\n",
              "</style>\n",
              "<table border=\"1\" class=\"dataframe\">\n",
              "  <thead>\n",
              "    <tr style=\"text-align: right;\">\n",
              "      <th></th>\n",
              "      <th>fr</th>\n",
              "      <th>en</th>\n",
              "    </tr>\n",
              "  </thead>\n",
              "  <tbody>\n",
              "    <tr>\n",
              "      <th>7481</th>\n",
              "      <td>Une meilleure analyse des obstacles que rencon...</td>\n",
              "      <td>Improved analysis of the obstacles facing wome...</td>\n",
              "    </tr>\n",
              "  </tbody>\n",
              "</table>\n",
              "</div>"
            ],
            "text/plain": [
              "                                                     fr                                                 en\n",
              "7481  Une meilleure analyse des obstacles que rencon...  Improved analysis of the obstacles facing wome..."
            ]
          },
          "metadata": {
            "tags": []
          },
          "execution_count": 113
        }
      ]
    },
    {
      "cell_type": "code",
      "metadata": {
        "id": "cUaUlrJexWKk",
        "colab_type": "code",
        "outputId": "f32ea06c-295a-4add-bfcf-e0badfe33385",
        "colab": {
          "base_uri": "https://localhost:8080/",
          "height": 68
        }
      },
      "source": [
        "nb_tables = 5\n",
        "lshs = [LSHasher(10,512) for i in range(nb_tables)]\n",
        "fake_emb = tf.random.normal([1000000,512])\n",
        "%time hashes = [lshs[i].get_hash(fake_emb) for i in range(5)]\n",
        "len(hashes)"
      ],
      "execution_count": 59,
      "outputs": [
        {
          "output_type": "stream",
          "text": [
            "CPU times: user 45.5 s, sys: 386 ms, total: 45.9 s\n",
            "Wall time: 45.9 s\n"
          ],
          "name": "stdout"
        },
        {
          "output_type": "execute_result",
          "data": {
            "text/plain": [
              "5"
            ]
          },
          "metadata": {
            "tags": []
          },
          "execution_count": 59
        }
      ]
    },
    {
      "cell_type": "code",
      "metadata": {
        "id": "WXR3KU6UsBsq",
        "colab_type": "code",
        "colab": {}
      },
      "source": [
        "df = pd.DataFrame({'h0':l,'c':1})"
      ],
      "execution_count": 0,
      "outputs": []
    },
    {
      "cell_type": "code",
      "metadata": {
        "id": "Z7jOTOKMsDVz",
        "colab_type": "code",
        "colab": {
          "base_uri": "https://localhost:8080/",
          "height": 450
        },
        "outputId": "0f05ec78-58fd-46af-de65-17abca32277a"
      },
      "source": [
        "df.groupby('h0').count().sort_values('c', ascending=False)"
      ],
      "execution_count": 89,
      "outputs": [
        {
          "output_type": "execute_result",
          "data": {
            "text/html": [
              "<div>\n",
              "<style scoped>\n",
              "    .dataframe tbody tr th:only-of-type {\n",
              "        vertical-align: middle;\n",
              "    }\n",
              "\n",
              "    .dataframe tbody tr th {\n",
              "        vertical-align: top;\n",
              "    }\n",
              "\n",
              "    .dataframe thead th {\n",
              "        text-align: right;\n",
              "    }\n",
              "</style>\n",
              "<table border=\"1\" class=\"dataframe\">\n",
              "  <thead>\n",
              "    <tr style=\"text-align: right;\">\n",
              "      <th></th>\n",
              "      <th>c</th>\n",
              "    </tr>\n",
              "    <tr>\n",
              "      <th>h0</th>\n",
              "      <th></th>\n",
              "    </tr>\n",
              "  </thead>\n",
              "  <tbody>\n",
              "    <tr>\n",
              "      <th>0001110001</th>\n",
              "      <td>58</td>\n",
              "    </tr>\n",
              "    <tr>\n",
              "      <th>1000100001</th>\n",
              "      <td>56</td>\n",
              "    </tr>\n",
              "    <tr>\n",
              "      <th>0000100001</th>\n",
              "      <td>45</td>\n",
              "    </tr>\n",
              "    <tr>\n",
              "      <th>1001100001</th>\n",
              "      <td>43</td>\n",
              "    </tr>\n",
              "    <tr>\n",
              "      <th>0100101011</th>\n",
              "      <td>40</td>\n",
              "    </tr>\n",
              "    <tr>\n",
              "      <th>...</th>\n",
              "      <td>...</td>\n",
              "    </tr>\n",
              "    <tr>\n",
              "      <th>0110000111</th>\n",
              "      <td>1</td>\n",
              "    </tr>\n",
              "    <tr>\n",
              "      <th>1101111111</th>\n",
              "      <td>1</td>\n",
              "    </tr>\n",
              "    <tr>\n",
              "      <th>1110011110</th>\n",
              "      <td>1</td>\n",
              "    </tr>\n",
              "    <tr>\n",
              "      <th>1110011100</th>\n",
              "      <td>1</td>\n",
              "    </tr>\n",
              "    <tr>\n",
              "      <th>1101011110</th>\n",
              "      <td>1</td>\n",
              "    </tr>\n",
              "  </tbody>\n",
              "</table>\n",
              "<p>996 rows × 1 columns</p>\n",
              "</div>"
            ],
            "text/plain": [
              "             c\n",
              "h0            \n",
              "0001110001  58\n",
              "1000100001  56\n",
              "0000100001  45\n",
              "1001100001  43\n",
              "0100101011  40\n",
              "...         ..\n",
              "0110000111   1\n",
              "1101111111   1\n",
              "1110011110   1\n",
              "1110011100   1\n",
              "1101011110   1\n",
              "\n",
              "[996 rows x 1 columns]"
            ]
          },
          "metadata": {
            "tags": []
          },
          "execution_count": 89
        }
      ]
    },
    {
      "cell_type": "code",
      "metadata": {
        "id": "vUnzCTD2VV5b",
        "colab_type": "code",
        "colab": {}
      },
      "source": [
        ""
      ],
      "execution_count": 0,
      "outputs": []
    }
  ]
}