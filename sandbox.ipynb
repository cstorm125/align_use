{
  "nbformat": 4,
  "nbformat_minor": 0,
  "metadata": {
    "colab": {
      "name": "sandbox",
      "provenance": [],
      "collapsed_sections": [],
      "include_colab_link": true
    },
    "kernelspec": {
      "name": "python3",
      "display_name": "Python 3"
    },
    "accelerator": "GPU"
  },
  "cells": [
    {
      "cell_type": "markdown",
      "metadata": {
        "id": "view-in-github",
        "colab_type": "text"
      },
      "source": [
        "<a href=\"https://colab.research.google.com/github/cstorm125/align_use/blob/master/sandbox.ipynb\" target=\"_parent\"><img src=\"https://colab.research.google.com/assets/colab-badge.svg\" alt=\"Open In Colab\"/></a>"
      ]
    },
    {
      "cell_type": "markdown",
      "metadata": {
        "id": "eOAL_5ZAUFWa",
        "colab_type": "text"
      },
      "source": [
        "# Universal Sentence Encoder for Sentence Alignment"
      ]
    },
    {
      "cell_type": "code",
      "metadata": {
        "id": "q4nGhbDHUGAG",
        "colab_type": "code",
        "colab": {}
      },
      "source": [
        "# #get europarl\n",
        "# !wget https://www.dropbox.com/s/nr5h3xuqhlvj94m/europarl-v7.fr-en.en\n",
        "# !wget https://www.dropbox.com/s/z730widwr5kw0zm/europarl-v7.fr-en.fr"
      ],
      "execution_count": 0,
      "outputs": []
    },
    {
      "cell_type": "code",
      "metadata": {
        "id": "iGrcWsPwVcNP",
        "colab_type": "code",
        "colab": {}
      },
      "source": [
        "# #get bucc2018\n",
        "# !wget https://comparable.limsi.fr/bucc2018/bucc2018-fr-en.sample-gold.tar.bz2; tar -xf bucc2018-fr-en.sample-gold.tar.bz2; cd bucc2018/fr-en; mv * ../.."
      ],
      "execution_count": 0,
      "outputs": []
    },
    {
      "cell_type": "code",
      "metadata": {
        "id": "6B8MUKwnVYF-",
        "colab_type": "code",
        "colab": {}
      },
      "source": [
        "# #install dependencies\n",
        "# !pip install tensorflow_text"
      ],
      "execution_count": 0,
      "outputs": []
    },
    {
      "cell_type": "code",
      "metadata": {
        "id": "XuDT_4j3PA4t",
        "colab_type": "code",
        "outputId": "21b897df-56fe-4d23-dda9-990e709ba246",
        "colab": {
          "base_uri": "https://localhost:8080/",
          "height": 121
        }
      },
      "source": [
        "!ls"
      ],
      "execution_count": 139,
      "outputs": [
        {
          "output_type": "stream",
          "text": [
            " bucc2018\t\t\t\t europarl-v7.fr-en.fr\n",
            " bucc2018-fr-en.sample-gold.tar.bz2\t fr-en.sample.en\n",
            " bucc2018-fr-en.sample-gold.tar.bz2.1\t fr-en.sample.fr\n",
            " bucc2018-fr-en.sample-gold.tar.bz2.2\t fr-en.sample.gold\n",
            "'download-sample-2018.cgi?langs=fr-en'\t sample_data\n",
            " europarl-v7.fr-en.en\n"
          ],
          "name": "stdout"
        }
      ]
    },
    {
      "cell_type": "code",
      "metadata": {
        "id": "_5bgNpo-eRfA",
        "colab_type": "code",
        "colab": {}
      },
      "source": [
        "import pandas as pd\n",
        "import numpy as np\n",
        "import tqdm\n",
        "import tensorflow_hub as hub\n",
        "import tensorflow_text\n",
        "import tensorflow as tf #tensorflow 2.1.0\n",
        "\n",
        "_model = hub.load('https://tfhub.dev/google/universal-sentence-encoder-multilingual/3')\n",
        "\n",
        "class LSHasher:\n",
        "    def __init__(self,hash_size = 10, input_dim = 512):\n",
        "        self.hash_size = hash_size\n",
        "        self.input_dim = input_dim\n",
        "        self.projections = tf.random.normal((self.input_dim, self.hash_size))\n",
        "    def get_hash(self,inp):\n",
        "        res = inp@self.projections\n",
        "        res = tf.cast(res > 0,tf.int32).numpy().astype(str)\n",
        "        res = [''.join(i) for i in res]\n",
        "        return res\n",
        "\n",
        "def get_alignment(all_emb,input_idx):\n",
        "    ref_idx = tf.constant(input_idx)[:,None]\n",
        "    sub_emb = tf.gather_nd(params=all_emb, indices=ref_idx)\n",
        "    x_ = tf.nn.l2_normalize(sub_emb,axis=1)\n",
        "    res = x_@tf.transpose(x_)\n",
        "    res = tf.linalg.set_diag(res, tf.constant(-2, dtype=float, shape=len(input_idx)))\n",
        "    max_idx = tf.argmax(res,0).numpy()\n",
        "    max_values = tf.reduce_max(res,0).numpy()\n",
        "    max_input_idx = [input_idx[i] for i in max_idx]\n",
        "    return max_input_idx, max_values\n",
        "\n",
        "def get_alignment2(emb1,emb2):\n",
        "    emb1_ = tf.nn.l2_normalize(emb1,axis=1)\n",
        "    emb2_ = tf.nn.l2_normalize(emb2,axis=1)\n",
        "    res = emb1_@tf.transpose(emb2_)\n",
        "    max_idx = tf.argmax(res,1).numpy()\n",
        "    max_values = tf.reduce_max(res,1).numpy()\n",
        "    return max_idx, max_values"
      ],
      "execution_count": 0,
      "outputs": []
    },
    {
      "cell_type": "markdown",
      "metadata": {
        "id": "-vWarr1rULaM",
        "colab_type": "text"
      },
      "source": [
        "## Small Baseline with `europarl fr-en`"
      ]
    },
    {
      "cell_type": "code",
      "metadata": {
        "id": "d5NLWsSGeWF3",
        "colab_type": "code",
        "outputId": "912803ba-7254-49dd-98e2-55cbfbfe8d28",
        "colab": {
          "base_uri": "https://localhost:8080/",
          "height": 34
        }
      },
      "source": [
        "#read files\n",
        "with open('europarl-v7.fr-en.fr','r') as f: fr = f.readlines()\n",
        "with open('europarl-v7.fr-en.en','r') as f: en = f.readlines()\n",
        "len(fr), len(en)"
      ],
      "execution_count": 0,
      "outputs": [
        {
          "output_type": "execute_result",
          "data": {
            "text/plain": [
              "(2007723, 2007723)"
            ]
          },
          "metadata": {
            "tags": []
          },
          "execution_count": 6
        }
      ]
    },
    {
      "cell_type": "code",
      "metadata": {
        "id": "vASlLe_UeXw9",
        "colab_type": "code",
        "outputId": "b1e74eb8-c20d-4860-b287-9f446ca49120",
        "colab": {
          "base_uri": "https://localhost:8080/",
          "height": 204
        }
      },
      "source": [
        "#create dataframe\n",
        "df = pd.DataFrame({'fr':[i[:-1] for i in fr],'en':[i[:-1] for i in en]})\n",
        "#deduplicate based on fr\n",
        "df['rnk'] = df.groupby('fr').cumcount()\n",
        "df = df[df.rnk==0].drop('rnk',1).reset_index(drop=True)\n",
        "df.tail()"
      ],
      "execution_count": 0,
      "outputs": [
        {
          "output_type": "execute_result",
          "data": {
            "text/html": [
              "<div>\n",
              "<style scoped>\n",
              "    .dataframe tbody tr th:only-of-type {\n",
              "        vertical-align: middle;\n",
              "    }\n",
              "\n",
              "    .dataframe tbody tr th {\n",
              "        vertical-align: top;\n",
              "    }\n",
              "\n",
              "    .dataframe thead th {\n",
              "        text-align: right;\n",
              "    }\n",
              "</style>\n",
              "<table border=\"1\" class=\"dataframe\">\n",
              "  <thead>\n",
              "    <tr style=\"text-align: right;\">\n",
              "      <th></th>\n",
              "      <th>fr</th>\n",
              "      <th>en</th>\n",
              "    </tr>\n",
              "  </thead>\n",
              "  <tbody>\n",
              "    <tr>\n",
              "      <th>1954617</th>\n",
              "      <td>Je donne la parole à M. Manders pour une motio...</td>\n",
              "      <td>Mr Manders has the floor for a procedural motion.</td>\n",
              "    </tr>\n",
              "    <tr>\n",
              "      <th>1954618</th>\n",
              "      <td>Monsieur le Président, je voudrais profiter de...</td>\n",
              "      <td>Mr President, I would like to take this opport...</td>\n",
              "    </tr>\n",
              "    <tr>\n",
              "      <th>1954619</th>\n",
              "      <td>Mesdames et Messieurs les Députés, avant votre...</td>\n",
              "      <td>Ladies and gentlemen, before you leave me alon...</td>\n",
              "    </tr>\n",
              "    <tr>\n",
              "      <th>1954620</th>\n",
              "      <td>Je me permettrai même, bien qu'ils soient abse...</td>\n",
              "      <td>I would also like, although they are absent, t...</td>\n",
              "    </tr>\n",
              "    <tr>\n",
              "      <th>1954621</th>\n",
              "      <td>Je ne rouvrirai pas le débat sur le millénaire...</td>\n",
              "      <td>I am not going to re-open the 'Millennium or n...</td>\n",
              "    </tr>\n",
              "  </tbody>\n",
              "</table>\n",
              "</div>"
            ],
            "text/plain": [
              "                                                        fr                                                 en\n",
              "1954617  Je donne la parole à M. Manders pour une motio...  Mr Manders has the floor for a procedural motion.\n",
              "1954618  Monsieur le Président, je voudrais profiter de...  Mr President, I would like to take this opport...\n",
              "1954619  Mesdames et Messieurs les Députés, avant votre...  Ladies and gentlemen, before you leave me alon...\n",
              "1954620  Je me permettrai même, bien qu'ils soient abse...  I would also like, although they are absent, t...\n",
              "1954621  Je ne rouvrirai pas le débat sur le millénaire...  I am not going to re-open the 'Millennium or n..."
            ]
          },
          "metadata": {
            "tags": []
          },
          "execution_count": 15
        }
      ]
    },
    {
      "cell_type": "code",
      "metadata": {
        "id": "txVgtaEQfp2w",
        "colab_type": "code",
        "outputId": "1eec6745-739b-4b63-9342-f6847ecdd840",
        "colab": {
          "base_uri": "https://localhost:8080/",
          "height": 102
        }
      },
      "source": [
        "#randomize a subset of 1000 deduplicated sentences\n",
        "rand_idx = np.random.choice(df.index, size=1000)\n",
        "\n",
        "#get use\n",
        "%time fr_emb = _model(df['fr'][rand_idx])\n",
        "%time en_emb = _model(df['en'][rand_idx])\n",
        "all_emb = tf.concat([fr_emb,en_emb],0)\n",
        "all_emb.shape"
      ],
      "execution_count": 0,
      "outputs": [
        {
          "output_type": "stream",
          "text": [
            "CPU times: user 155 ms, sys: 2.88 ms, total: 158 ms\n",
            "Wall time: 140 ms\n",
            "CPU times: user 136 ms, sys: 2.9 ms, total: 139 ms\n",
            "Wall time: 115 ms\n"
          ],
          "name": "stdout"
        },
        {
          "output_type": "execute_result",
          "data": {
            "text/plain": [
              "TensorShape([2000, 512])"
            ]
          },
          "metadata": {
            "tags": []
          },
          "execution_count": 24
        }
      ]
    },
    {
      "cell_type": "code",
      "metadata": {
        "id": "IZyCKOdnmNWP",
        "colab_type": "code",
        "outputId": "b133c3ac-0f20-4fa6-ace8-4eede6aeea4b",
        "colab": {
          "base_uri": "https://localhost:8080/",
          "height": 419
        }
      },
      "source": [
        "#test with first 1000 rows of deduped fr-en europarl\n",
        "input_idx = [i for i in range(2000)]\n",
        "max_input_idx, max_values = get_alignment(all_emb,input_idx)\n",
        "res_df = pd.DataFrame({'src_idx':input_idx, 'targ_idx':max_input_idx,'score':max_values})\n",
        "res_df"
      ],
      "execution_count": 0,
      "outputs": [
        {
          "output_type": "execute_result",
          "data": {
            "text/html": [
              "<div>\n",
              "<style scoped>\n",
              "    .dataframe tbody tr th:only-of-type {\n",
              "        vertical-align: middle;\n",
              "    }\n",
              "\n",
              "    .dataframe tbody tr th {\n",
              "        vertical-align: top;\n",
              "    }\n",
              "\n",
              "    .dataframe thead th {\n",
              "        text-align: right;\n",
              "    }\n",
              "</style>\n",
              "<table border=\"1\" class=\"dataframe\">\n",
              "  <thead>\n",
              "    <tr style=\"text-align: right;\">\n",
              "      <th></th>\n",
              "      <th>src_idx</th>\n",
              "      <th>targ_idx</th>\n",
              "      <th>score</th>\n",
              "    </tr>\n",
              "  </thead>\n",
              "  <tbody>\n",
              "    <tr>\n",
              "      <th>0</th>\n",
              "      <td>0</td>\n",
              "      <td>1000</td>\n",
              "      <td>0.720966</td>\n",
              "    </tr>\n",
              "    <tr>\n",
              "      <th>1</th>\n",
              "      <td>1</td>\n",
              "      <td>1001</td>\n",
              "      <td>0.724499</td>\n",
              "    </tr>\n",
              "    <tr>\n",
              "      <th>2</th>\n",
              "      <td>2</td>\n",
              "      <td>1002</td>\n",
              "      <td>0.712397</td>\n",
              "    </tr>\n",
              "    <tr>\n",
              "      <th>3</th>\n",
              "      <td>3</td>\n",
              "      <td>1003</td>\n",
              "      <td>0.770342</td>\n",
              "    </tr>\n",
              "    <tr>\n",
              "      <th>4</th>\n",
              "      <td>4</td>\n",
              "      <td>1004</td>\n",
              "      <td>0.749140</td>\n",
              "    </tr>\n",
              "    <tr>\n",
              "      <th>...</th>\n",
              "      <td>...</td>\n",
              "      <td>...</td>\n",
              "      <td>...</td>\n",
              "    </tr>\n",
              "    <tr>\n",
              "      <th>1995</th>\n",
              "      <td>1995</td>\n",
              "      <td>995</td>\n",
              "      <td>0.845170</td>\n",
              "    </tr>\n",
              "    <tr>\n",
              "      <th>1996</th>\n",
              "      <td>1996</td>\n",
              "      <td>996</td>\n",
              "      <td>0.860101</td>\n",
              "    </tr>\n",
              "    <tr>\n",
              "      <th>1997</th>\n",
              "      <td>1997</td>\n",
              "      <td>997</td>\n",
              "      <td>0.875563</td>\n",
              "    </tr>\n",
              "    <tr>\n",
              "      <th>1998</th>\n",
              "      <td>1998</td>\n",
              "      <td>998</td>\n",
              "      <td>0.831155</td>\n",
              "    </tr>\n",
              "    <tr>\n",
              "      <th>1999</th>\n",
              "      <td>1999</td>\n",
              "      <td>999</td>\n",
              "      <td>0.805793</td>\n",
              "    </tr>\n",
              "  </tbody>\n",
              "</table>\n",
              "<p>2000 rows × 3 columns</p>\n",
              "</div>"
            ],
            "text/plain": [
              "      src_idx  targ_idx     score\n",
              "0           0      1000  0.720966\n",
              "1           1      1001  0.724499\n",
              "2           2      1002  0.712397\n",
              "3           3      1003  0.770342\n",
              "4           4      1004  0.749140\n",
              "...       ...       ...       ...\n",
              "1995     1995       995  0.845170\n",
              "1996     1996       996  0.860101\n",
              "1997     1997       997  0.875563\n",
              "1998     1998       998  0.831155\n",
              "1999     1999       999  0.805793\n",
              "\n",
              "[2000 rows x 3 columns]"
            ]
          },
          "metadata": {
            "tags": []
          },
          "execution_count": 25
        }
      ]
    },
    {
      "cell_type": "code",
      "metadata": {
        "id": "3VTDlgb_rBZi",
        "colab_type": "code",
        "outputId": "72d6e0f1-2093-4e0d-e49d-5343938298e2",
        "colab": {
          "base_uri": "https://localhost:8080/",
          "height": 34
        }
      },
      "source": [
        "#fr to en\n",
        "(res_df.iloc[:1000,:].src_idx==res_df.iloc[:1000,:].targ_idx-1000).mean()"
      ],
      "execution_count": 0,
      "outputs": [
        {
          "output_type": "execute_result",
          "data": {
            "text/plain": [
              "0.981"
            ]
          },
          "metadata": {
            "tags": []
          },
          "execution_count": 26
        }
      ]
    },
    {
      "cell_type": "code",
      "metadata": {
        "id": "G8pLO1o0KijV",
        "colab_type": "code",
        "outputId": "5ba9537b-7a54-40d5-b366-cb874e607001",
        "colab": {
          "base_uri": "https://localhost:8080/",
          "height": 34
        }
      },
      "source": [
        "#en to fr\n",
        "(res_df.iloc[1000:,:].src_idx==res_df.iloc[1000:,:].targ_idx+1000).mean()"
      ],
      "execution_count": 0,
      "outputs": [
        {
          "output_type": "execute_result",
          "data": {
            "text/plain": [
              "0.982"
            ]
          },
          "metadata": {
            "tags": []
          },
          "execution_count": 27
        }
      ]
    },
    {
      "cell_type": "markdown",
      "metadata": {
        "id": "luY0_QoQT_zi",
        "colab_type": "text"
      },
      "source": [
        "## Larger Baseline with `bucc2018 fr-en`"
      ]
    },
    {
      "cell_type": "code",
      "metadata": {
        "id": "Go_R5KFeWQpQ",
        "colab_type": "code",
        "colab": {
          "base_uri": "https://localhost:8080/",
          "height": 121
        },
        "outputId": "078f0134-03b5-43ad-e79a-44bf32c6c038"
      },
      "source": [
        "!ls"
      ],
      "execution_count": 148,
      "outputs": [
        {
          "output_type": "stream",
          "text": [
            " bucc2018\t\t\t\t europarl-v7.fr-en.fr\n",
            " bucc2018-fr-en.sample-gold.tar.bz2\t fr-en.sample.en\n",
            " bucc2018-fr-en.sample-gold.tar.bz2.1\t fr-en.sample.fr\n",
            " bucc2018-fr-en.sample-gold.tar.bz2.2\t fr-en.sample.gold\n",
            "'download-sample-2018.cgi?langs=fr-en'\t sample_data\n",
            " europarl-v7.fr-en.en\n"
          ],
          "name": "stdout"
        }
      ]
    },
    {
      "cell_type": "code",
      "metadata": {
        "id": "l-PPfXXdUzC7",
        "colab_type": "code",
        "colab": {
          "base_uri": "https://localhost:8080/",
          "height": 35
        },
        "outputId": "6dd89101-eaea-46e7-b6d5-9e2ae73a1885"
      },
      "source": [
        "fr = pd.read_csv('fr-en.sample.fr',sep='\\t',header=None)\n",
        "en = pd.read_csv('fr-en.sample.en',sep='\\t',header=None)\n",
        "for i in [fr,en]: i.columns = ['id','text']\n",
        "gold = pd.read_csv('fr-en.sample.gold',sep='\\t',header=None)\n",
        "gold.columns=['fr_id','en_id']\n",
        "fr.shape,en.shape,gold.shape"
      ],
      "execution_count": 152,
      "outputs": [
        {
          "output_type": "execute_result",
          "data": {
            "text/plain": [
              "((21316, 2), (37675, 2), (929, 2))"
            ]
          },
          "metadata": {
            "tags": []
          },
          "execution_count": 152
        }
      ]
    },
    {
      "cell_type": "code",
      "metadata": {
        "id": "fAKzaVw_iu0O",
        "colab_type": "code",
        "outputId": "88f1b95a-f1c3-42cd-f31a-4c19d7a4925c",
        "colab": {
          "base_uri": "https://localhost:8080/",
          "height": 35
        }
      },
      "source": [
        "fr_embs = []\n",
        "en_embs = []\n",
        "bs = 10000\n",
        "for i in range(fr.shape[0]//bs+1):\n",
        "  fr_embs.append(_model(fr.iloc[bs*i:bs*(i+1),1]))\n",
        "for i in range(en.shape[0]//bs+1):\n",
        "  en_embs.append(_model(en.iloc[bs*i:bs*(i+1),1]))\n",
        "fr_emb = tf.concat(fr_embs,0)\n",
        "en_emb = tf.concat(en_embs,0)\n",
        "fr_emb.shape, en_emb.shape"
      ],
      "execution_count": 154,
      "outputs": [
        {
          "output_type": "execute_result",
          "data": {
            "text/plain": [
              "(TensorShape([21316, 512]), TensorShape([37675, 512]))"
            ]
          },
          "metadata": {
            "tags": []
          },
          "execution_count": 154
        }
      ]
    },
    {
      "cell_type": "code",
      "metadata": {
        "id": "vUnzCTD2VV5b",
        "colab_type": "code",
        "colab": {
          "base_uri": "https://localhost:8080/",
          "height": 69
        },
        "outputId": "2e9ce14c-3b6f-4f96-f06d-508ddb217c1a"
      },
      "source": [
        "get_alignment2(fr_emb[:10000,:],fr_emb[:10000,:])"
      ],
      "execution_count": 156,
      "outputs": [
        {
          "output_type": "execute_result",
          "data": {
            "text/plain": [
              "(array([   0,    1,    2, ..., 9997, 9998, 9999]),\n",
              " array([1.        , 1.        , 1.        , ..., 0.99999994, 0.99999976,\n",
              "        0.9999998 ], dtype=float32))"
            ]
          },
          "metadata": {
            "tags": []
          },
          "execution_count": 156
        }
      ]
    },
    {
      "cell_type": "code",
      "metadata": {
        "id": "wVEVnpwoZtZd",
        "colab_type": "code",
        "colab": {
          "base_uri": "https://localhost:8080/",
          "height": 35
        },
        "outputId": "320f00b4-3750-4669-86e8-4868f9e77833"
      },
      "source": [
        "reses = []\n",
        "for i in range(fr_emb.shape[0]//bs+1):\n",
        "  src_id = fr.iloc[bs*i:bs*(i+1),0]\n",
        "  for j in range(en_emb.shape[0]//bs+1):\n",
        "    dest_idx, score = get_alignment2(fr_emb[bs*i:bs*(i+1),:],en_emb[bs*j:bs*(j+1),:])\n",
        "    dest_id = en.iloc[dest_idx,0]\n",
        "    reses.append(pd.DataFrame({'src_id':list(src_id),'dest_id': list(dest_id),'score':score}))\n",
        "res_df = pd.concat(reses,0).reset_index(drop=True)\n",
        "res_df['rnk'] = res_df.sort_values('score',ascending=False).groupby('src_id').cumcount()\n",
        "res_df = res_df[res_df.rnk==0].drop('rnk',1)\n",
        "res_df.shape"
      ],
      "execution_count": 184,
      "outputs": [
        {
          "output_type": "execute_result",
          "data": {
            "text/plain": [
              "(21316, 3)"
            ]
          },
          "metadata": {
            "tags": []
          },
          "execution_count": 184
        }
      ]
    },
    {
      "cell_type": "code",
      "metadata": {
        "id": "PEkzjpO-dDhc",
        "colab_type": "code",
        "colab": {
          "base_uri": "https://localhost:8080/",
          "height": 283
        },
        "outputId": "f58097c0-28c0-40cf-fb6f-7a82a22bff49"
      },
      "source": [
        "#distribution of similarity score\n",
        "res_df.score.hist()"
      ],
      "execution_count": 191,
      "outputs": [
        {
          "output_type": "execute_result",
          "data": {
            "text/plain": [
              "<matplotlib.axes._subplots.AxesSubplot at 0x7efd33e0c080>"
            ]
          },
          "metadata": {
            "tags": []
          },
          "execution_count": 191
        },
        {
          "output_type": "display_data",
          "data": {
            "image/png": "[encoded data removed]",
            "text/plain": [
              "<Figure size 432x288 with 1 Axes>"
            ]
          },
          "metadata": {
            "tags": [],
            "needs_background": "light"
          }
        }
      ]
    },
    {
      "cell_type": "code",
      "metadata": {
        "id": "TLp63OUPZ-47",
        "colab_type": "code",
        "colab": {
          "base_uri": "https://localhost:8080/",
          "height": 1000
        },
        "outputId": "25d9dd3f-4ee3-4f46-cbc6-a45c1866b050"
      },
      "source": [
        "#predict match only when similarity is above threshold\n",
        "threses = [i/100 for i in range(5,100,5)]\n",
        "for thres in threses:\n",
        "  res_joined = res_df[res_df.score>thres].merge(gold,how='left',left_on='src_id',right_on='fr_id')\n",
        "  precision = (res_joined.dest_id==res_joined.en_id).sum() / res_joined.shape[0]\n",
        "  recall = (res_joined.dest_id==res_joined.en_id).sum() / gold.shape[0]\n",
        "  print(f'''\n",
        "  threshold: {thres}\n",
        "  accuracy: {(res_joined.dest_id==res_joined.en_id).mean()}\n",
        "  f1: {2*((precision*recall)/(precision+recall))}\n",
        "  precision: {precision}\n",
        "  recall: {recall}\n",
        "  ''')"
      ],
      "execution_count": 200,
      "outputs": [
        {
          "output_type": "stream",
          "text": [
            "\n",
            "  threshold: 0.05\n",
            "  accuracy: 0.013792456370801277\n",
            "  f1: 0.026432906271072153\n",
            "  precision: 0.013792456370801277\n",
            "  recall: 0.31646932185145316\n",
            "  \n",
            "\n",
            "  threshold: 0.1\n",
            "  accuracy: 0.013792456370801277\n",
            "  f1: 0.026432906271072153\n",
            "  precision: 0.013792456370801277\n",
            "  recall: 0.31646932185145316\n",
            "  \n",
            "\n",
            "  threshold: 0.15\n",
            "  accuracy: 0.013792456370801277\n",
            "  f1: 0.026432906271072153\n",
            "  precision: 0.013792456370801277\n",
            "  recall: 0.31646932185145316\n",
            "  \n",
            "\n",
            "  threshold: 0.2\n",
            "  accuracy: 0.013792456370801277\n",
            "  f1: 0.026432906271072153\n",
            "  precision: 0.013792456370801277\n",
            "  recall: 0.31646932185145316\n",
            "  \n",
            "\n",
            "  threshold: 0.25\n",
            "  accuracy: 0.013792456370801277\n",
            "  f1: 0.026432906271072153\n",
            "  precision: 0.013792456370801277\n",
            "  recall: 0.31646932185145316\n",
            "  \n",
            "\n",
            "  threshold: 0.3\n",
            "  accuracy: 0.013805409466566491\n",
            "  f1: 0.02645669291338583\n",
            "  precision: 0.013805409466566491\n",
            "  recall: 0.31646932185145316\n",
            "  \n",
            "\n",
            "  threshold: 0.35\n",
            "  accuracy: 0.014097338767681612\n",
            "  f1: 0.02699228791773779\n",
            "  precision: 0.014097338767681612\n",
            "  recall: 0.31646932185145316\n",
            "  \n",
            "\n",
            "  threshold: 0.4\n",
            "  accuracy: 0.016199239627527687\n",
            "  f1: 0.03082084075898941\n",
            "  precision: 0.016199239627527687\n",
            "  recall: 0.31646932185145316\n",
            "  \n",
            "\n",
            "  threshold: 0.45\n",
            "  accuracy: 0.024155780133103277\n",
            "  f1: 0.04488549618320611\n",
            "  precision: 0.024155780133103277\n",
            "  recall: 0.31646932185145316\n",
            "  \n",
            "\n",
            "  threshold: 0.5\n",
            "  accuracy: 0.04617809298660362\n",
            "  f1: 0.08056090184217761\n",
            "  precision: 0.04617809298660362\n",
            "  recall: 0.3153928955866523\n",
            "  \n",
            "\n",
            "  threshold: 0.55\n",
            "  accuracy: 0.0982324949014276\n",
            "  f1: 0.14931542237148024\n",
            "  precision: 0.0982324949014276\n",
            "  recall: 0.3110871905274489\n",
            "  \n",
            "\n",
            "  threshold: 0.6\n",
            "  accuracy: 0.19613259668508287\n",
            "  f1: 0.23895666806899454\n",
            "  precision: 0.19613259668508287\n",
            "  recall: 0.30570505920344454\n",
            "  \n",
            "\n",
            "  threshold: 0.65\n",
            "  accuracy: 0.2745490981963928\n",
            "  f1: 0.2843798650752465\n",
            "  precision: 0.2745490981963928\n",
            "  recall: 0.294940796555436\n",
            "  \n",
            "\n",
            "  threshold: 0.7\n",
            "  accuracy: 0.30357142857142855\n",
            "  f1: 0.28829847371396267\n",
            "  precision: 0.30357142857142855\n",
            "  recall: 0.2744886975242196\n",
            "  \n",
            "\n",
            "  threshold: 0.75\n",
            "  accuracy: 0.3132867132867133\n",
            "  f1: 0.2725060827250608\n",
            "  precision: 0.3132867132867133\n",
            "  recall: 0.2411194833153929\n",
            "  \n",
            "\n",
            "  threshold: 0.8\n",
            "  accuracy: 0.3241106719367589\n",
            "  f1: 0.2285714285714286\n",
            "  precision: 0.3241106719367589\n",
            "  recall: 0.17653390742734124\n",
            "  \n",
            "\n",
            "  threshold: 0.85\n",
            "  accuracy: 0.3187250996015936\n",
            "  f1: 0.13559322033898308\n",
            "  precision: 0.3187250996015936\n",
            "  recall: 0.0861141011840689\n",
            "  \n",
            "\n",
            "  threshold: 0.9\n",
            "  accuracy: 0.36065573770491804\n",
            "  f1: 0.04444444444444444\n",
            "  precision: 0.36065573770491804\n",
            "  recall: 0.023681377825618945\n",
            "  \n",
            "\n",
            "  threshold: 0.95\n",
            "  accuracy: 0.3333333333333333\n",
            "  f1: 0.002145922746781116\n",
            "  precision: 0.3333333333333333\n",
            "  recall: 0.001076426264800861\n",
            "  \n"
          ],
          "name": "stdout"
        }
      ]
    },
    {
      "cell_type": "code",
      "metadata": {
        "id": "vI7-EaY8Z_r4",
        "colab_type": "code",
        "colab": {
          "base_uri": "https://localhost:8080/",
          "height": 139
        },
        "outputId": "7adc59ee-e2bf-41cf-9cb4-ddf8813acb89"
      },
      "source": [
        "  #best thres around 0.7\n",
        "  thres=0.7\n",
        "  res_joined = res_df[res_df.score>thres].merge(gold,how='left',left_on='src_id',right_on='fr_id')\n",
        "  precision = (res_joined.dest_id==res_joined.en_id).sum() / res_joined.shape[0]\n",
        "  recall = (res_joined.dest_id==res_joined.en_id).sum() / gold.shape[0]\n",
        "  print(f'''\n",
        "  threshold: {thres}\n",
        "  accuracy: {(res_joined.dest_id==res_joined.en_id).mean()}\n",
        "  f1: {2*((precision*recall)/(precision+recall))}\n",
        "  precision: {precision}\n",
        "  recall: {recall}\n",
        "  ''')"
      ],
      "execution_count": 201,
      "outputs": [
        {
          "output_type": "stream",
          "text": [
            "\n",
            "threshold: 0.7\n",
            "accuracy: 0.30357142857142855\n",
            "f1: 0.28829847371396267\n",
            "precision: 0.30357142857142855\n",
            "recall: 0.2744886975242196\n",
            "\n"
          ],
          "name": "stdout"
        }
      ]
    },
    {
      "cell_type": "code",
      "metadata": {
        "id": "fLsjtjccc6zM",
        "colab_type": "code",
        "colab": {}
      },
      "source": [
        ""
      ],
      "execution_count": 0,
      "outputs": []
    }
  ]
}